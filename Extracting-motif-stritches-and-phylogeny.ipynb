{
  "nbformat": 4,
  "nbformat_minor": 0,
  "metadata": {
    "colab": {
      "provenance": [],
      "authorship_tag": "ABX9TyPGb4F2Pzi+In8o7m/XnPkg",
      "include_colab_link": true
    },
    "kernelspec": {
      "name": "python3",
      "display_name": "Python 3"
    },
    "language_info": {
      "name": "python"
    }
  },
  "cells": [
    {
      "cell_type": "markdown",
      "metadata": {
        "id": "view-in-github",
        "colab_type": "text"
      },
      "source": [
        "<a href=\"https://colab.research.google.com/github/Ash100/Minor/blob/main/Extracting-motif-stritches-and-phylogeny.ipynb\" target=\"_parent\"><img src=\"https://colab.research.google.com/assets/colab-badge.svg\" alt=\"Open In Colab\"/></a>"
      ]
    },
    {
      "cell_type": "code",
      "source": [
        "!pip install biopython seaborn matplotlib"
      ],
      "metadata": {
        "id": "QVtR_M9qOMyD"
      },
      "execution_count": null,
      "outputs": []
    },
    {
      "cell_type": "code",
      "source": [
        "# Install MAFFT\n",
        "!apt-get -qq update\n",
        "!apt-get -qq install mafft"
      ],
      "metadata": {
        "id": "dUGa2GrxEIBK"
      },
      "execution_count": null,
      "outputs": []
    },
    {
      "cell_type": "code",
      "source": [
        "!mafft --version"
      ],
      "metadata": {
        "id": "WnIhJBcsENZ5"
      },
      "execution_count": null,
      "outputs": []
    },
    {
      "cell_type": "code",
      "source": [
        "#@title reads .txt, scan LXXLL, extrat -10-LXXLL-10 aa stritch to .fasta\n",
        "# 📌 Step 1: Import libraries\n",
        "import re\n",
        "\n",
        "# 📌 Step 2: Define motif pattern\n",
        "motif_pattern = re.compile(r'L.{2}LL')\n",
        "\n",
        "# 📌 Step 3: Load FASTA sequences\n",
        "file_path = '/content/controlled_condidates_LXXLL.txt'  # Update if needed\n",
        "sequences = {}\n",
        "current_name = None\n",
        "\n",
        "with open(file_path, 'r') as f:\n",
        "    for line in f:\n",
        "        line = line.strip()\n",
        "        if line.startswith('>'):\n",
        "            current_name = line[1:].strip()\n",
        "            sequences[current_name] = ''\n",
        "        elif current_name:\n",
        "            sequences[current_name] += line\n",
        "\n",
        "# 📌 Step 4: Extract motif windows\n",
        "motif_windows = []\n",
        "for name, seq in sequences.items():\n",
        "    for match in motif_pattern.finditer(seq):\n",
        "        start = match.start()\n",
        "        end = match.end()\n",
        "        window_start = max(0, start - 10)\n",
        "        window_end = min(len(seq), end + 10)\n",
        "        window_seq = seq[window_start:window_end]\n",
        "        header = f\">{name}|LXXLL@{start}-{end}\"\n",
        "        motif_windows.append((header, window_seq))\n",
        "\n",
        "# 📌 Step 5: Write to FASTA file\n",
        "output_path = '/content/LXXLL_windows.fasta'\n",
        "with open(output_path, 'w') as f:\n",
        "    for header, window_seq in motif_windows:\n",
        "        f.write(f\"{header}\\n{window_seq}\\n\")\n",
        "\n",
        "print(f\"✅ Extracted {len(motif_windows)} motif windows to: {output_path}\")\n"
      ],
      "metadata": {
        "colab": {
          "base_uri": "https://localhost:8080/"
        },
        "cellView": "form",
        "id": "uAQ8D8Qe96mK",
        "outputId": "36d59788-987e-49ad-fc29-90e917dfaf68"
      },
      "execution_count": 4,
      "outputs": [
        {
          "output_type": "stream",
          "name": "stdout",
          "text": [
            "✅ Extracted 23 motif windows to: /content/LXXLL_windows.fasta\n"
          ]
        }
      ]
    },
    {
      "cell_type": "code",
      "source": [
        "#@title reads .csv and perform the same function as above\n",
        "# 📌 Step 1: Import libraries\n",
        "import pandas as pd\n",
        "import re\n",
        "\n",
        "# 📌 Step 2: Define file path and motif pattern\n",
        "csv_path = '/content/human_viral_proteins_with_lxxll_motif.csv'  # Update with your actual file name\n",
        "motif_pattern = re.compile(r'L.{2}LL')\n",
        "\n",
        "# 📌 Step 3: Load CSV and extract relevant columns\n",
        "df = pd.read_csv(csv_path)\n",
        "\n",
        "# Replace these with your actual column names\n",
        "id_column = 'ID'         # e.g., UniProt ID or gene name\n",
        "seq_column = 'Sequence'  # column containing protein sequence\n",
        "\n",
        "# 📌 Step 4: Scan sequences and extract motif windows\n",
        "fasta_entries = []\n",
        "\n",
        "for _, row in df.iterrows():\n",
        "    seq_id = str(row[id_column])\n",
        "    sequence = str(row[seq_column]).strip()\n",
        "\n",
        "    for match in motif_pattern.finditer(sequence):\n",
        "        start = match.start()\n",
        "        end = match.end()\n",
        "        window_start = max(0, start - 10)\n",
        "        window_end = min(len(sequence), end + 10)\n",
        "        window_seq = sequence[window_start:window_end]\n",
        "\n",
        "        header = f\">{seq_id}|LXXLL@{start}-{end}\"\n",
        "        fasta_entries.append((header, window_seq))\n",
        "\n",
        "# 📌 Step 5: Write to FASTA file\n",
        "fasta_path = '/content/test_LXXLL_windows_from_csv.fasta'\n",
        "with open(fasta_path, 'w') as f:\n",
        "    for header, seq in fasta_entries:\n",
        "        f.write(f\"{header}\\n{seq}\\n\")\n",
        "\n",
        "print(f\"✅ Extracted {len(fasta_entries)} motif windows to: {fasta_path}\")\n"
      ],
      "metadata": {
        "id": "HJzsIVDDAwBx"
      },
      "execution_count": null,
      "outputs": []
    },
    {
      "cell_type": "code",
      "source": [
        "#@title running mafft on .fasta file\n",
        "# Align sequences using MAFFT\n",
        "!mafft --auto /content/combined_LXXLL.fasta > aligned_combined_sequences.fasta"
      ],
      "metadata": {
        "id": "ZnXrAUEIEaoJ"
      },
      "execution_count": null,
      "outputs": []
    },
    {
      "cell_type": "code",
      "source": [
        "!head aligned_sequences.fasta"
      ],
      "metadata": {
        "colab": {
          "base_uri": "https://localhost:8080/"
        },
        "id": "FYlEAUNEFS5h",
        "outputId": "066082ce-5d64-4c2b-bd4b-5dcc30a2a5d5"
      },
      "execution_count": 12,
      "outputs": [
        {
          "output_type": "stream",
          "name": "stdout",
          "text": [
            "head: cannot open 'aligned_sequences.fasta' for reading: No such file or directory\n"
          ]
        }
      ]
    },
    {
      "cell_type": "code",
      "source": [
        "#@title Compare pairwise distances\n",
        "from Bio import AlignIO\n",
        "from Bio.Phylo.TreeConstruction import DistanceCalculator\n",
        "\n",
        "alignment = AlignIO.read(\"/content/aligned_combined_sequences.fasta\", \"fasta\")\n",
        "calculator = DistanceCalculator(\"blosum62\")\n",
        "dm = calculator.get_distance(alignment)\n"
      ],
      "metadata": {
        "id": "vuxG9o8VEzPA"
      },
      "execution_count": 14,
      "outputs": []
    },
    {
      "cell_type": "code",
      "source": [
        "#@title build phylogenetic tree\n",
        "from Bio.Phylo.TreeConstruction import DistanceTreeConstructor\n",
        "from Bio import Phylo\n",
        "\n",
        "constructor = DistanceTreeConstructor()\n",
        "tree = constructor.nj(dm)  # or .upgma(dm)\n",
        "Phylo.write(tree, \"motif_tree.nwk\", \"newick\")\n",
        "Phylo.draw(tree)  # or use iTOL for interactive visualization\n"
      ],
      "metadata": {
        "id": "7VnTF9_7E-6i"
      },
      "execution_count": null,
      "outputs": []
    }
  ]
}