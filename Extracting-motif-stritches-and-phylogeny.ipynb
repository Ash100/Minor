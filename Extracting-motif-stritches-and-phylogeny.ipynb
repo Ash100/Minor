{
  "nbformat": 4,
  "nbformat_minor": 0,
  "metadata": {
    "colab": {
      "provenance": [],
      "authorship_tag": "ABX9TyPBESb3IKAHC1ZSv2AJZDSc",
      "include_colab_link": true
    },
    "kernelspec": {
      "name": "python3",
      "display_name": "Python 3"
    },
    "language_info": {
      "name": "python"
    }
  },
  "cells": [
    {
      "cell_type": "markdown",
      "metadata": {
        "id": "view-in-github",
        "colab_type": "text"
      },
      "source": [
        "<a href=\"https://colab.research.google.com/github/Ash100/Minor/blob/main/Extracting-motif-stritches-and-phylogeny.ipynb\" target=\"_parent\"><img src=\"https://colab.research.google.com/assets/colab-badge.svg\" alt=\"Open In Colab\"/></a>"
      ]
    },
    {
      "cell_type": "code",
      "source": [
        "!pip install biopython seaborn matplotlib"
      ],
      "metadata": {
        "id": "QVtR_M9qOMyD",
        "outputId": "af232086-fb97-4ffb-f8fd-08bfd1e01e30",
        "colab": {
          "base_uri": "https://localhost:8080/"
        }
      },
      "execution_count": 1,
      "outputs": [
        {
          "output_type": "stream",
          "name": "stdout",
          "text": [
            "Collecting biopython\n",
            "  Downloading biopython-1.85-cp312-cp312-manylinux_2_17_x86_64.manylinux2014_x86_64.whl.metadata (13 kB)\n",
            "Requirement already satisfied: seaborn in /usr/local/lib/python3.12/dist-packages (0.13.2)\n",
            "Requirement already satisfied: matplotlib in /usr/local/lib/python3.12/dist-packages (3.10.0)\n",
            "Requirement already satisfied: numpy in /usr/local/lib/python3.12/dist-packages (from biopython) (2.0.2)\n",
            "Requirement already satisfied: pandas>=1.2 in /usr/local/lib/python3.12/dist-packages (from seaborn) (2.2.2)\n",
            "Requirement already satisfied: contourpy>=1.0.1 in /usr/local/lib/python3.12/dist-packages (from matplotlib) (1.3.3)\n",
            "Requirement already satisfied: cycler>=0.10 in /usr/local/lib/python3.12/dist-packages (from matplotlib) (0.12.1)\n",
            "Requirement already satisfied: fonttools>=4.22.0 in /usr/local/lib/python3.12/dist-packages (from matplotlib) (4.59.1)\n",
            "Requirement already satisfied: kiwisolver>=1.3.1 in /usr/local/lib/python3.12/dist-packages (from matplotlib) (1.4.9)\n",
            "Requirement already satisfied: packaging>=20.0 in /usr/local/lib/python3.12/dist-packages (from matplotlib) (25.0)\n",
            "Requirement already satisfied: pillow>=8 in /usr/local/lib/python3.12/dist-packages (from matplotlib) (11.3.0)\n",
            "Requirement already satisfied: pyparsing>=2.3.1 in /usr/local/lib/python3.12/dist-packages (from matplotlib) (3.2.3)\n",
            "Requirement already satisfied: python-dateutil>=2.7 in /usr/local/lib/python3.12/dist-packages (from matplotlib) (2.9.0.post0)\n",
            "Requirement already satisfied: pytz>=2020.1 in /usr/local/lib/python3.12/dist-packages (from pandas>=1.2->seaborn) (2025.2)\n",
            "Requirement already satisfied: tzdata>=2022.7 in /usr/local/lib/python3.12/dist-packages (from pandas>=1.2->seaborn) (2025.2)\n",
            "Requirement already satisfied: six>=1.5 in /usr/local/lib/python3.12/dist-packages (from python-dateutil>=2.7->matplotlib) (1.17.0)\n",
            "Downloading biopython-1.85-cp312-cp312-manylinux_2_17_x86_64.manylinux2014_x86_64.whl (3.3 MB)\n",
            "\u001b[2K   \u001b[90m━━━━━━━━━━━━━━━━━━━━━━━━━━━━━━━━━━━━━━━━\u001b[0m \u001b[32m3.3/3.3 MB\u001b[0m \u001b[31m62.4 MB/s\u001b[0m eta \u001b[36m0:00:00\u001b[0m\n",
            "\u001b[?25hInstalling collected packages: biopython\n",
            "Successfully installed biopython-1.85\n"
          ]
        }
      ]
    },
    {
      "cell_type": "code",
      "source": [
        "# Install MAFFT\n",
        "!apt-get -qq update\n",
        "!apt-get -qq install mafft"
      ],
      "metadata": {
        "id": "dUGa2GrxEIBK"
      },
      "execution_count": null,
      "outputs": []
    },
    {
      "cell_type": "code",
      "source": [
        "!mafft --version"
      ],
      "metadata": {
        "id": "WnIhJBcsENZ5"
      },
      "execution_count": null,
      "outputs": []
    },
    {
      "cell_type": "code",
      "source": [
        "#@title Extract 10aa–Motif–10aa patch only for the motif in \"Motif sequence\" column\n",
        "import os\n",
        "import pandas as pd\n",
        "\n",
        "# ==== Settings ====\n",
        "csv_path = \"/content/ncbi_refseq_with_lxxll_motif.csv\"   # <-- update your CSV path\n",
        "seq_col = \"Sequence\"\n",
        "id_col = \"ID\"\n",
        "motif_col = \"Motif Sequence\"\n",
        "new_col = \"Extracted Motif\"\n",
        "flank = 10\n",
        "\n",
        "# ==== Load CSV ====\n",
        "df = pd.read_csv(csv_path)\n",
        "\n",
        "# ==== Extract patches ====\n",
        "patches = []\n",
        "fasta_entries = []\n",
        "\n",
        "for idx, row in df.iterrows():\n",
        "    seq_id = str(row.get(id_col, f\"row{idx}\"))\n",
        "    sequence = str(row[seq_col]).strip()\n",
        "    motif = str(row[motif_col]).strip()\n",
        "\n",
        "    patch_seq = \"\"\n",
        "    if motif and motif in sequence:\n",
        "        start = sequence.find(motif)\n",
        "        end = start + len(motif)\n",
        "\n",
        "        win_start = max(0, start - flank)\n",
        "        win_end   = min(len(sequence), end + flank)\n",
        "\n",
        "        patch_seq = sequence[win_start:win_end]\n",
        "\n",
        "        # FASTA header with 1-based motif position\n",
        "        header = f\">{seq_id}|{motif}@{start+1}-{end}\"\n",
        "        fasta_entries.append((header, patch_seq))\n",
        "\n",
        "    patches.append(patch_seq)\n",
        "\n",
        "# ==== Insert new column ====\n",
        "df.insert(len(df.columns), new_col, patches)\n",
        "\n",
        "# ==== Save updated CSV ====\n",
        "base, ext = os.path.splitext(csv_path)\n",
        "output_csv = f\"{base}_with_patch{ext or '.csv'}\"\n",
        "df.to_csv(output_csv, index=False)\n",
        "\n",
        "# ==== Save FASTA ====\n",
        "fasta_path = f\"{base}_motif_patches.fasta\"\n",
        "with open(fasta_path, \"w\") as f:\n",
        "    for header, seq in fasta_entries:\n",
        "        f.write(f\"{header}\\n{seq}\\n\")\n",
        "\n",
        "print(f\"✅ Processed {len(df)} rows from: {csv_path}\")\n",
        "print(f\"✅ Updated CSV saved to: {output_csv}\")\n",
        "print(f\"✅ FASTA saved to: {fasta_path}\")\n"
      ],
      "metadata": {
        "id": "wlHhTAe19EGW",
        "outputId": "d1edbf13-368d-430d-f0f1-300fbd0447df",
        "colab": {
          "base_uri": "https://localhost:8080/"
        }
      },
      "execution_count": 6,
      "outputs": [
        {
          "output_type": "stream",
          "name": "stdout",
          "text": [
            "✅ Processed 355 rows from: /content/ncbi_refseq_with_lxxll_motif.csv\n",
            "✅ Updated CSV saved to: /content/ncbi_refseq_with_lxxll_motif_with_patch.csv\n",
            "✅ FASTA saved to: /content/ncbi_refseq_with_lxxll_motif_motif_patches.fasta\n"
          ]
        }
      ]
    },
    {
      "cell_type": "code",
      "source": [
        "#@title running mafft on .fasta file\n",
        "# Align sequences using MAFFT\n",
        "!mafft --auto /content/combined_LXXLL.fasta > aligned_combined_sequences.fasta"
      ],
      "metadata": {
        "id": "ZnXrAUEIEaoJ"
      },
      "execution_count": null,
      "outputs": []
    },
    {
      "cell_type": "code",
      "source": [
        "!head aligned_sequences.fasta"
      ],
      "metadata": {
        "colab": {
          "base_uri": "https://localhost:8080/"
        },
        "id": "FYlEAUNEFS5h",
        "outputId": "066082ce-5d64-4c2b-bd4b-5dcc30a2a5d5"
      },
      "execution_count": null,
      "outputs": [
        {
          "output_type": "stream",
          "name": "stdout",
          "text": [
            "head: cannot open 'aligned_sequences.fasta' for reading: No such file or directory\n"
          ]
        }
      ]
    },
    {
      "cell_type": "code",
      "source": [
        "#@title Compare pairwise distances\n",
        "from Bio import AlignIO\n",
        "from Bio.Phylo.TreeConstruction import DistanceCalculator\n",
        "\n",
        "alignment = AlignIO.read(\"/content/aligned_combined_sequences.fasta\", \"fasta\")\n",
        "calculator = DistanceCalculator(\"blosum62\")\n",
        "dm = calculator.get_distance(alignment)\n"
      ],
      "metadata": {
        "id": "vuxG9o8VEzPA"
      },
      "execution_count": null,
      "outputs": []
    },
    {
      "cell_type": "code",
      "source": [
        "#@title build phylogenetic tree\n",
        "from Bio.Phylo.TreeConstruction import DistanceTreeConstructor\n",
        "from Bio import Phylo\n",
        "\n",
        "constructor = DistanceTreeConstructor()\n",
        "tree = constructor.nj(dm)  # or .upgma(dm)\n",
        "Phylo.write(tree, \"motif_tree.nwk\", \"newick\")\n",
        "Phylo.draw(tree)  # or use iTOL for interactive visualization\n"
      ],
      "metadata": {
        "id": "7VnTF9_7E-6i"
      },
      "execution_count": null,
      "outputs": []
    }
  ]
}