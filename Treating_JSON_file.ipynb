{
  "nbformat": 4,
  "nbformat_minor": 0,
  "metadata": {
    "colab": {
      "provenance": [],
      "authorship_tag": "ABX9TyMLzrNxnyTc3RYq1coZVAvh",
      "include_colab_link": true
    },
    "kernelspec": {
      "name": "python3",
      "display_name": "Python 3"
    },
    "language_info": {
      "name": "python"
    }
  },
  "cells": [
    {
      "cell_type": "markdown",
      "metadata": {
        "id": "view-in-github",
        "colab_type": "text"
      },
      "source": [
        "<a href=\"https://colab.research.google.com/github/Ash100/Minor/blob/main/Treating_JSON_file.ipynb\" target=\"_parent\"><img src=\"https://colab.research.google.com/assets/colab-badge.svg\" alt=\"Open In Colab\"/></a>"
      ]
    },
    {
      "cell_type": "markdown",
      "source": [
        "###Install Biopython"
      ],
      "metadata": {
        "id": "rbs63TCdB5-d"
      }
    },
    {
      "cell_type": "code",
      "source": [
        "!pip install Bio"
      ],
      "metadata": {
        "id": "z3pEh56W7Fcr"
      },
      "execution_count": null,
      "outputs": []
    },
    {
      "cell_type": "markdown",
      "source": [
        "### Extract PDB from the .JSON file"
      ],
      "metadata": {
        "id": "e-RZ37euBz7V"
      }
    },
    {
      "cell_type": "code",
      "source": [
        "from Bio.PDB.MMCIFParser import MMCIFParser\n",
        "from Bio.PDB import PDBIO\n",
        "import json\n",
        "\n",
        "# Load JSON\n",
        "with open(\"/content/boltz2.json\", \"r\") as f:\n",
        "    data = json.load(f)\n",
        "\n",
        "# Extract mmCIF block\n",
        "mmcif_block = data[\"structures\"][0][\"structure\"]\n",
        "\n",
        "# Save mmCIF text temporarily\n",
        "with open(\"temp.cif\", \"w\") as f:\n",
        "    f.write(mmcif_block)\n",
        "\n",
        "# Parse with Biopython\n",
        "parser = MMCIFParser(QUIET=True)\n",
        "structure = parser.get_structure(\"model\", \"temp.cif\")\n",
        "\n",
        "# Export to PDB\n",
        "io = PDBIO()\n",
        "io.set_structure(structure)\n",
        "io.save(\"output.pdb\")\n",
        "\n",
        "print(\"✅ output.pdb saved with connectivity (PyMOL should display bonds correctly)\")\n"
      ],
      "metadata": {
        "colab": {
          "base_uri": "https://localhost:8080/"
        },
        "id": "KsnAIq1t7AGT",
        "outputId": "56cafc54-a379-4573-db2a-7e1608ac9eb4"
      },
      "execution_count": 2,
      "outputs": [
        {
          "output_type": "stream",
          "name": "stdout",
          "text": [
            "✅ output.pdb saved with connectivity (PyMOL should display bonds correctly)\n"
          ]
        }
      ]
    },
    {
      "cell_type": "markdown",
      "source": [
        "### Extract Metrices of your choice"
      ],
      "metadata": {
        "id": "e9RvsC3GBsXk"
      }
    },
    {
      "cell_type": "code",
      "source": [
        "import json\n",
        "import pandas as pd\n",
        "\n",
        "# Provide your own ID here\n",
        "run_id = \"Model_1\"   # <-- change this as needed\n",
        "\n",
        "# Load JSON\n",
        "with open(\"/content/boltz2.json\", \"r\") as f:\n",
        "    data = json.load(f)\n",
        "\n",
        "# -------- Extract selected scores --------\n",
        "selected_keys = [\n",
        "    \"confidence_scores\",\n",
        "    \"ptm_scores\",\n",
        "    \"iptm_scores\",\n",
        "    \"complex_plddt_scores\",\n",
        "    \"complex_pde_scores\",\n",
        "    \"complex_ipde_scores\"\n",
        "]\n",
        "\n",
        "selected_scores = {\"ID\": run_id}   # Start with ID\n",
        "for key in selected_keys:\n",
        "    if key in data:\n",
        "        val = data[key]\n",
        "        # Flatten single-element lists\n",
        "        if isinstance(val, list) and len(val) == 1:\n",
        "            val = val[0]\n",
        "        selected_scores[key] = val\n",
        "\n",
        "# Save as CSV\n",
        "df_scores = pd.DataFrame([selected_scores])\n",
        "df_scores.to_csv(\"selected_scores.csv\", index=False)\n",
        "\n",
        "print(\"✅ selected_scores.csv saved with ID column\")\n"
      ],
      "metadata": {
        "colab": {
          "base_uri": "https://localhost:8080/"
        },
        "id": "ikHCdP9PA_D9",
        "outputId": "d43aa0b0-1a8e-4747-f5fc-b278ac475bf4"
      },
      "execution_count": 15,
      "outputs": [
        {
          "output_type": "stream",
          "name": "stdout",
          "text": [
            "✅ selected_scores.csv saved with ID column\n"
          ]
        }
      ]
    }
  ]
}