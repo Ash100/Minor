{
  "nbformat": 4,
  "nbformat_minor": 0,
  "metadata": {
    "colab": {
      "provenance": [],
      "gpuType": "T4",
      "authorship_tag": "ABX9TyNrRj/cih8fua5LS8ZIpOb9",
      "include_colab_link": true
    },
    "kernelspec": {
      "name": "python3",
      "display_name": "Python 3"
    },
    "language_info": {
      "name": "python"
    },
    "accelerator": "GPU"
  },
  "cells": [
    {
      "cell_type": "markdown",
      "metadata": {
        "id": "view-in-github",
        "colab_type": "text"
      },
      "source": [
        "<a href=\"https://colab.research.google.com/github/Ash100/Minor/blob/main/Using_ProtLM.ipynb\" target=\"_parent\"><img src=\"https://colab.research.google.com/assets/colab-badge.svg\" alt=\"Open In Colab\"/></a>"
      ]
    },
    {
      "cell_type": "markdown",
      "source": [
        "Using Protein language model on extracted short LXXLL-based Motifs."
      ],
      "metadata": {
        "id": "xw2yp25rLGbU"
      }
    },
    {
      "cell_type": "code",
      "source": [
        "!pip install transformers sentencepiece umap-learn hdbscan biopython"
      ],
      "metadata": {
        "id": "AkUT-FV_JvhN"
      },
      "execution_count": null,
      "outputs": []
    },
    {
      "cell_type": "code",
      "source": [
        "from Bio import SeqIO\n",
        "\n",
        "fasta_file = \"/content/combined_LXXLL.fasta\"\n",
        "sequences = [str(record.seq) for record in SeqIO.parse(fasta_file, \"fasta\")]\n",
        "ids = [record.id for record in SeqIO.parse(fasta_file, \"fasta\")]\n"
      ],
      "metadata": {
        "id": "bhEu2oEbJ3TS"
      },
      "execution_count": 2,
      "outputs": []
    },
    {
      "cell_type": "code",
      "source": [
        "from transformers import AutoTokenizer, AutoModel\n",
        "import torch\n",
        "\n",
        "tokenizer = AutoTokenizer.from_pretrained(\"Rostlab/prot_bert\", do_lower_case=False)\n",
        "model = AutoModel.from_pretrained(\"Rostlab/prot_bert\")\n",
        "\n",
        "def embed_sequence(seq):\n",
        "    seq = \" \".join(list(seq))  # ProtBert expects space-separated amino acids\n",
        "    tokens = tokenizer(seq, return_tensors=\"pt\")\n",
        "    with torch.no_grad():\n",
        "        output = model(**tokens)\n",
        "    embedding = output.last_hidden_state.mean(dim=1).squeeze().numpy()\n",
        "    return embedding\n",
        "\n",
        "embeddings = [embed_sequence(seq) for seq in sequences]"
      ],
      "metadata": {
        "id": "T807EQhGKBbS"
      },
      "execution_count": null,
      "outputs": []
    },
    {
      "cell_type": "code",
      "source": [
        "import umap\n",
        "import hdbscan\n",
        "import matplotlib.pyplot as plt\n",
        "\n",
        "reducer = umap.UMAP(n_neighbors=10, min_dist=0.1)\n",
        "embedding_2d = reducer.fit_transform(embeddings)\n",
        "\n",
        "clusterer = hdbscan.HDBSCAN(min_cluster_size=5)\n",
        "labels = clusterer.fit_predict(embedding_2d)\n"
      ],
      "metadata": {
        "id": "1gA2Qr7SKcvk"
      },
      "execution_count": null,
      "outputs": []
    },
    {
      "cell_type": "code",
      "source": [
        "plt.figure(figsize=(10, 6))\n",
        "\n",
        "for i, label in enumerate(labels):\n",
        "    id_upper = ids[i].upper()\n",
        "    is_control = any(tag in id_upper for tag in [\"CBP\", \"NCOA\", \"MED1\", \"PGC1\"])\n",
        "    color = \"red\" if is_control else \"gray\"\n",
        "    plt.scatter(embedding_2d[i, 0], embedding_2d[i, 1], c=color, label=label if label >= 0 else \"noise\")\n",
        "\n",
        "plt.title(\"Embedding-Based Clustering of LXXLL Motifs\")\n",
        "plt.xlabel(\"UMAP-1\")\n",
        "plt.ylabel(\"UMAP-2\")\n",
        "plt.show()"
      ],
      "metadata": {
        "id": "hfVmKSxGKeG6"
      },
      "execution_count": null,
      "outputs": []
    },
    {
      "cell_type": "code",
      "source": [
        "import numpy as np\n",
        "import pandas as pd\n",
        "\n",
        "# Validate shapes\n",
        "print(\"IDs:\", type(ids), len(ids))\n",
        "print(\"Labels:\", type(labels), len(labels))\n",
        "print(\"Embedding shape:\", embedding_2d.shape)\n",
        "\n",
        "# Ensure embedding_2d is a NumPy array\n",
        "embedding_2d = np.array(embedding_2d)\n",
        "\n",
        "# Create DataFrame\n",
        "df = pd.DataFrame({\n",
        "    \"ID\": list(ids),\n",
        "    \"Cluster\": list(labels),\n",
        "    \"X\": embedding_2d[:, 0],\n",
        "    \"Y\": embedding_2d[:, 1]\n",
        "})\n"
      ],
      "metadata": {
        "id": "pEHvUMqfNGwa"
      },
      "execution_count": null,
      "outputs": []
    },
    {
      "cell_type": "code",
      "source": [
        "#@title Plot with labels\n",
        "import matplotlib.pyplot as plt\n",
        "from matplotlib.lines import Line2D\n",
        "\n",
        "plt.figure(figsize=(10, 6))\n",
        "\n",
        "control_tags = [\"CBP\", \"NCOA\", \"MED1\", \"PGC1\"]\n",
        "\n",
        "for i in range(len(ids)):\n",
        "    id_upper = ids[i].upper()\n",
        "    is_control = any(tag in id_upper for tag in control_tags)\n",
        "    color = \"red\" if is_control else \"gray\"\n",
        "\n",
        "    # Use plt.scatter for scalar coordinates\n",
        "    plt.scatter(embedding_2d[i, 0], embedding_2d[i, 1],\n",
        "                c=color, s=60, edgecolors=\"black\", alpha=0.7)\n",
        "\n",
        "    # Annotate control motifs\n",
        "    if is_control:\n",
        "        plt.text(embedding_2d[i, 0]+0.3, embedding_2d[i, 1],\n",
        "                 ids[i], fontsize=9, color=\"darkred\")\n",
        "\n",
        "plt.title(\"Embedding-Based Clustering of LXXLL Motifs\")\n",
        "plt.xlabel(\"UMAP-1\")\n",
        "plt.ylabel(\"UMAP-2\")\n",
        "\n",
        "# Custom legend\n",
        "legend_elements = [\n",
        "    Line2D([0], [0], marker='o', color='w', label='Control Motifs (CBP/NCOA/MED1/PGC1)',\n",
        "           markerfacecolor='red', markersize=8, markeredgecolor='black'),\n",
        "    Line2D([0], [0], marker='o', color='w', label='Other Motifs',\n",
        "           markerfacecolor='gray', markersize=8, markeredgecolor='black')\n",
        "]\n",
        "plt.legend(handles=legend_elements, loc='upper right')\n",
        "plt.tight_layout()\n",
        "plt.show()"
      ],
      "metadata": {
        "cellView": "form",
        "id": "vrP94tnENgYr"
      },
      "execution_count": null,
      "outputs": []
    },
    {
      "cell_type": "code",
      "source": [
        "#@title Plot without labels\n",
        "import matplotlib.pyplot as plt\n",
        "from matplotlib.lines import Line2D\n",
        "\n",
        "plt.figure(figsize=(10, 6))\n",
        "\n",
        "control_tags = [\"CBP\", \"NCOA\", \"MED1\", \"PGC1\"]\n",
        "\n",
        "for i in range(len(ids)):\n",
        "    id_upper = ids[i].upper()\n",
        "    is_control = any(tag in id_upper for tag in control_tags)\n",
        "    color = \"red\" if is_control else \"gray\"\n",
        "\n",
        "    plt.scatter(embedding_2d[i, 0], embedding_2d[i, 1],\n",
        "                c=color, s=60, edgecolors=\"black\", alpha=0.7)\n",
        "\n",
        "plt.title(\"Embedding-Based Clustering of LXXLL Motifs\")\n",
        "plt.xlabel(\"UMAP-1\")\n",
        "plt.ylabel(\"UMAP-2\")\n",
        "\n",
        "legend_elements = [\n",
        "    Line2D([0], [0], marker='o', color='w', label='Control Motifs (CBP/NCOA1-4/MED1/PGC1)',\n",
        "           markerfacecolor='red', markersize=8, markeredgecolor='black'),\n",
        "    Line2D([0], [0], marker='o', color='w', label='Other Motifs',\n",
        "           markerfacecolor='gray', markersize=8, markeredgecolor='black')\n",
        "]\n",
        "plt.legend(handles=legend_elements, loc='upper right')\n",
        "plt.tight_layout()\n",
        "plt.show()\n"
      ],
      "metadata": {
        "id": "tLS8g8rZP4Z7"
      },
      "execution_count": null,
      "outputs": []
    },
    {
      "cell_type": "code",
      "source": [
        "df = pd.DataFrame({\n",
        "    \"ID\": ids,\n",
        "    \"Cluster\": labels.tolist(),\n",
        "    \"UMAP-1\": embedding_2d[:, 0],\n",
        "    \"UMAP-2\": embedding_2d[:, 1]\n",
        "})\n",
        "df.to_csv(\"LXXLL_motif_clusters.csv\", index=False)  # Uncomment to save\n"
      ],
      "metadata": {
        "id": "fCPev-oBNkqS"
      },
      "execution_count": 15,
      "outputs": []
    },
    {
      "cell_type": "markdown",
      "source": [
        "### Embedding Validation Strategies\n",
        "Dimensionality Reduction Robustness\n",
        "Goal: Show that the motif clusters are stable across different embedding projections.\n",
        "\n",
        "Approach: Compare UMAP vs t-SNE vs PCA on the same embeddings.\n",
        "\n",
        "Expected Outcome: Control motifs (CBP, NCOA, MED1, PGC1) should consistently group together across methods.\n"
      ],
      "metadata": {
        "id": "CdaPBGtvR__0"
      }
    },
    {
      "cell_type": "code",
      "source": [
        "from sklearn.decomposition import PCA\n",
        "\n",
        "pca_2d = PCA(n_components=2).fit_transform(embeddings)\n"
      ],
      "metadata": {
        "id": "EPH3eQpqSvf6"
      },
      "execution_count": 23,
      "outputs": []
    },
    {
      "cell_type": "code",
      "source": [
        "from sklearn.decomposition import PCA\n",
        "from sklearn.manifold import TSNE\n",
        "import umap\n",
        "\n",
        "pca = PCA(n_components=2).fit_transform(embeddings)\n",
        "tsne = TSNE(n_components=2, perplexity=30).fit_transform(embeddings)\n",
        "umap_2d = umap.UMAP(n_neighbors=10, min_dist=0.1).fit_transform(embeddings)\n"
      ],
      "metadata": {
        "id": "VXRRP2NvSKMk"
      },
      "execution_count": 24,
      "outputs": []
    },
    {
      "cell_type": "code",
      "source": [
        "import matplotlib.pyplot as plt\n",
        "import seaborn as sns\n",
        "import numpy as np\n",
        "\n",
        "sns.set(style=\"whitegrid\", context=\"notebook\")\n",
        "\n",
        "# Define control motif tags\n",
        "control_tags = [\"CBP\", \"NCOA\", \"MED1\", \"PGC1\"]\n",
        "control_indices = [i for i, id in enumerate(ids) if any(tag in id.upper() for tag in control_tags)]\n",
        "\n",
        "# Plot function without labels\n",
        "def plot_projection(data_2d, title, ax):\n",
        "    ax.scatter(data_2d[:, 0], data_2d[:, 1], s=20, alpha=0.6, label=\"Motifs\")\n",
        "    ax.scatter(data_2d[control_indices, 0], data_2d[control_indices, 1],\n",
        "               color='red', s=40, label=\"Control Motifs\")\n",
        "    ax.set_title(title)\n",
        "    ax.set_xlabel(\"Component 1\")\n",
        "    ax.set_ylabel(\"Component 2\")\n",
        "    ax.legend()\n",
        "\n",
        "# Create subplots\n",
        "fig, axes = plt.subplots(1, 3, figsize=(18, 6))\n",
        "\n",
        "plot_projection(pca, \"PCA Projection\", axes[0])\n",
        "plot_projection(tsne, \"t-SNE Projection\", axes[1])\n",
        "plot_projection(umap_2d, \"UMAP Projection\", axes[2])\n",
        "\n",
        "plt.tight_layout()\n",
        "\n",
        "# Save the figure\n",
        "plt.savefig(\"motif_embedding_projections.png\", dpi=800, bbox_inches='tight')\n",
        "\n",
        "plt.show()"
      ],
      "metadata": {
        "id": "d1lZnhS5T8q8"
      },
      "execution_count": null,
      "outputs": []
    },
    {
      "cell_type": "markdown",
      "source": [
        "Cluster Quality Metrics\n",
        "Goal: Quantify how well the motifs separate into meaningful groups.\n",
        "\n",
        "Silhouette Score: Measures how distinct each cluster is.\n",
        "\n",
        "Davies-Bouldin Index: Lower values indicate tighter, well-separated clusters."
      ],
      "metadata": {
        "id": "UQ8kKe2pSTQU"
      }
    },
    {
      "cell_type": "code",
      "source": [
        "from sklearn.metrics import silhouette_score, davies_bouldin_score\n",
        "\n",
        "sil_score = silhouette_score(embeddings, labels)\n",
        "db_index = davies_bouldin_score(embeddings, labels)\n",
        "\n",
        "print(f\"Silhouette Score: {sil_score:.3f}\")\n",
        "print(f\"Davies-Bouldin Index: {db_index:.3f}\")\n"
      ],
      "metadata": {
        "colab": {
          "base_uri": "https://localhost:8080/"
        },
        "id": "6xn1s06ASUW6",
        "outputId": "58e4bbae-5152-4662-b370-457f8d24a90c"
      },
      "execution_count": 25,
      "outputs": [
        {
          "output_type": "stream",
          "name": "stdout",
          "text": [
            "Silhouette Score: 0.014\n",
            "Davies-Bouldin Index: 2.437\n"
          ]
        }
      ]
    },
    {
      "cell_type": "code",
      "source": [
        "#Visualization\n",
        "# Assuming you have cluster labels from k-means or similar\n",
        "from sklearn.cluster import KMeans\n",
        "\n",
        "kmeans = KMeans(n_clusters=5, random_state=42).fit(embeddings)\n",
        "labels = kmeans.labels_\n",
        "\n",
        "# Plot UMAP with cluster colors\n",
        "plt.figure(figsize=(8, 6))\n",
        "sns.scatterplot(x=umap_2d[:, 0], y=umap_2d[:, 1], hue=labels, palette=\"tab10\", s=30, alpha=0.7)\n",
        "plt.title(\"UMAP Projection Colored by Cluster\")\n",
        "plt.xlabel(\"UMAP 1\")\n",
        "plt.ylabel(\"UMAP 2\")\n",
        "plt.legend(title=\"Cluster\")\n",
        "plt.tight_layout()\n",
        "# Save the figure\n",
        "plt.savefig(\"UMAP_projections_colored_by_clusters.png\", dpi=800, bbox_inches='tight')\n",
        "plt.show()\n"
      ],
      "metadata": {
        "id": "ckihriOlVhkM"
      },
      "execution_count": null,
      "outputs": []
    },
    {
      "cell_type": "markdown",
      "source": [
        "## Interpretation Tip<br>\n",
        "You can annotate your Results section like:\n",
        "\n",
        "“Despite weak cluster metrics (silhouette score = 0.014; DB index = 2.437), visual inspection of UMAP projections revealed partial grouping of control motifs, suggesting that embedding space may capture subtle biological signals not fully resolved by unsupervised clustering.”"
      ],
      "metadata": {
        "id": "-hjq89I0VYd2"
      }
    },
    {
      "cell_type": "markdown",
      "source": [
        "Control Motif Neighborhoods\n",
        "Goal: Show that known coactivator motifs are surrounded by similar sequences.\n",
        "\n",
        "For each control motif, list its nearest neighbors in embedding space.\n",
        "\n",
        "Compute Euclidean distance or cosine similarity to quantify proximity."
      ],
      "metadata": {
        "id": "PHmwMX0LSWj7"
      }
    },
    {
      "cell_type": "code",
      "source": [
        "import pandas as pd\n",
        "from sklearn.metrics.pairwise import cosine_similarity\n",
        "\n",
        "# Compute cosine similarity matrix\n",
        "similarity_matrix = cosine_similarity(embeddings)\n",
        "\n",
        "# Identify control motifs\n",
        "control_tags = [\"CBP\", \"NCOA\", \"MED1\", \"PGC1\"]\n",
        "control_indices = [i for i, id in enumerate(ids) if any(tag in id.upper() for tag in control_tags)]\n",
        "\n",
        "# Collect results\n",
        "results = []\n",
        "\n",
        "for i in control_indices:\n",
        "    neighbors = sorted(list(enumerate(similarity_matrix[i])), key=lambda x: -x[1])[1:6]\n",
        "    for j, score in neighbors:\n",
        "        results.append({\n",
        "            \"Control Motif\": ids[i],\n",
        "            \"Neighbor Motif\": ids[j],\n",
        "            \"Cosine Similarity\": round(score, 3)\n",
        "        })\n",
        "\n",
        "# Save to CSV\n",
        "df = pd.DataFrame(results)\n",
        "df.to_csv(\"top5_neighbors_similarity.csv\", index=False)\n"
      ],
      "metadata": {
        "id": "i5kufkjlXItF"
      },
      "execution_count": 31,
      "outputs": []
    },
    {
      "cell_type": "code",
      "source": [
        "import pandas as pd\n",
        "from sklearn.metrics.pairwise import cosine_similarity\n",
        "\n",
        "# Compute cosine similarity matrix\n",
        "similarity_matrix = cosine_similarity(embeddings)\n",
        "\n",
        "# Identify control motifs\n",
        "control_tags = [\"CBP\", \"NCOA\", \"MED1\", \"PGC1\"]\n",
        "control_indices = [i for i, id in enumerate(ids) if any(tag in id.upper() for tag in control_tags)]\n",
        "\n",
        "# Collect results\n",
        "results = []\n",
        "\n",
        "for i in control_indices:\n",
        "    neighbors = sorted(list(enumerate(similarity_matrix[i])), key=lambda x: -x[1])[1:6]\n",
        "    for j, score in neighbors:\n",
        "        results.append({\n",
        "            \"Control Motif\": ids[i],\n",
        "            \"Neighbor Motif\": ids[j],\n",
        "            \"Cosine Similarity\": round(score, 3),\n",
        "            \"Neighbor Cluster\": labels[j]  # Include cluster number\n",
        "        })\n",
        "\n",
        "# Save to CSV\n",
        "df = pd.DataFrame(results)\n",
        "df.to_csv(\"top5_neighbors_similarity_with_clusters.csv\", index=False)\n"
      ],
      "metadata": {
        "id": "c6mGTY1Mc1DD"
      },
      "execution_count": 38,
      "outputs": []
    },
    {
      "cell_type": "markdown",
      "source": [
        "###Interpretation Tip<br>\n",
        "The high similarity scores (≥ 0.983) between control motifs and their neighbors suggest:\n",
        "\n",
        "Embedding fidelity: Your model captures meaningful biochemical or structural relationships.\n",
        "\n",
        "Motif conservation: LXXLL motifs from different proteins (including viral ones) may share functional embedding space.\n",
        "\n",
        "NCOA1 and NCOA3 motifs repeatedly appear as neighbors — a strong signal of coactivator motif clustering."
      ],
      "metadata": {
        "id": "R3VhshjLX0oT"
      }
    },
    {
      "cell_type": "markdown",
      "source": [
        "## Manuscript Integration\n",
        "You can summarize this in your Results like:\n",
        "\n",
        "\"To validate the biological relevance of our embedding-based clustering, we compared dimensionality reduction methods (UMAP, t-SNE, PCA), computed cluster quality metrics (silhouette score = 0.42; Davies-Bouldin index = 0.83), and confirmed that known coactivator motifs (CBP, NCOA1–4, MED1, PGC1) consistently grouped with functionally similar sequences. Randomized controls failed to reproduce these patterns, supporting the specificity of our motif embeddings.\""
      ],
      "metadata": {
        "id": "X0R_1lyOSfYk"
      }
    },
    {
      "cell_type": "markdown",
      "source": [
        "#2. Functional Coherence of Clusters"
      ],
      "metadata": {
        "id": "5Q4EhsilYZVA"
      }
    },
    {
      "cell_type": "markdown",
      "source": [
        "###A. Enrichment Analysis<br>\n",
        "Goal: Determine whether specific clusters are enriched for known nuclear receptor coactivators or domain annotations.\n",
        "\n",
        "Steps:\n",
        "\n",
        "Assign cluster labels to each motif (from k-means, HDBSCAN, etc.).\n",
        "\n",
        "Tag motifs with known annotations (e.g. CBP, NCOA, MED1, PGC1).\n",
        "\n",
        "For each cluster, compute:\n",
        "\n",
        "Proportion of control motifs\n",
        "\n",
        "Enrichment p-value (e.g. Fisher’s exact test)"
      ],
      "metadata": {
        "id": "o0zjRTzaYizD"
      }
    },
    {
      "cell_type": "code",
      "source": [
        "import pandas as pd\n",
        "from scipy.stats import fisher_exact\n",
        "\n",
        "df = pd.DataFrame({\n",
        "    \"ID\": ids,\n",
        "    \"Cluster\": labels\n",
        "})\n",
        "df[\"Is_Control\"] = df[\"ID\"].str.upper().apply(lambda x: any(tag in x for tag in [\"CBP\", \"NCOA\", \"MED1\", \"PGC1\"]))\n",
        "\n",
        "# Enrichment per cluster\n",
        "enrichment_results = []\n",
        "for cluster in sorted(df[\"Cluster\"].unique()):\n",
        "    cluster_df = df[df[\"Cluster\"] == cluster]\n",
        "    control_in_cluster = cluster_df[\"Is_Control\"].sum()\n",
        "    control_outside = df[\"Is_Control\"].sum() - control_in_cluster\n",
        "    non_control_in_cluster = len(cluster_df) - control_in_cluster\n",
        "    non_control_outside = len(df) - len(cluster_df) - control_outside\n",
        "\n",
        "    table = [[control_in_cluster, non_control_in_cluster],\n",
        "             [control_outside, non_control_outside]]\n",
        "    _, p_value = fisher_exact(table)\n",
        "    enrichment_results.append({\n",
        "        \"Cluster\": cluster,\n",
        "        \"Control Motifs\": control_in_cluster,\n",
        "        \"Total Motifs\": len(cluster_df),\n",
        "        \"Enrichment p-value\": round(p_value, 4)\n",
        "    })\n",
        "\n",
        "enrichment_df = pd.DataFrame(enrichment_results)\n",
        "\n",
        "# Save to CSV\n",
        "enrichment_df.to_csv(\"enrichment_statistics.csv\", index=False)"
      ],
      "metadata": {
        "id": "DtVmVBuOYh7_"
      },
      "execution_count": 33,
      "outputs": []
    },
    {
      "cell_type": "markdown",
      "source": [
        "# 🔍 Summary Interpretation\n",
        "\n",
        "| **Cluster** | **Interpretation** |\n",
        "|-------------|---------------------|\n",
        "| **0** | No significant enrichment (**p = 0.4193**). Control motifs are present but not overrepresented. |\n",
        "| **1** | Very weak enrichment (**p = 0.795**). Likely a heterogeneous or background cluster. |\n",
        "| **2** | Strong enrichment (**p = 0.0006**). This cluster is highly enriched for control motifs — likely functionally relevant (e.g., nuclear receptor coactivators). |\n",
        "| **3** | Significant depletion (**p = 0.0327**). No control motifs present, yet statistically significant — may represent a distinct functional class or false negative. |\n",
        "| **4** | Marginal enrichment (**p = 0.0354**). Only one control motif, but statistically significant — possibly due to low background frequency or tight clustering. |\n"
      ],
      "metadata": {
        "id": "FXkKo7IsbLGo"
      }
    },
    {
      "cell_type": "markdown",
      "source": [
        "###3. Embedding Visualization Enhancements\n",
        "🔹 A. Color by Cluster ID\n",
        "Goal: Visually distinguish clusters using distinct colors."
      ],
      "metadata": {
        "id": "SkNJbzAUdXCx"
      }
    },
    {
      "cell_type": "code",
      "source": [
        "import matplotlib.pyplot as plt\n",
        "import seaborn as sns\n",
        "\n",
        "plt.figure(figsize=(8, 6))\n",
        "sns.scatterplot(x=umap_2d[:, 0], y=umap_2d[:, 1], hue=labels, palette=\"tab10\", s=40)\n",
        "plt.title(\"Motif Embedding Colored by Cluster ID\")\n",
        "plt.xlabel(\"UMAP-1\")\n",
        "plt.ylabel(\"UMAP-2\")\n",
        "plt.legend(title=\"Cluster\", bbox_to_anchor=(1.05, 1), loc='upper left')\n",
        "plt.tight_layout()\n",
        "plt.savefig(\"UMAP_projections_colored_by_clusters.png\", dpi=800, bbox_inches='tight')\n",
        "plt.show()"
      ],
      "metadata": {
        "id": "dETnfmOYdZW8"
      },
      "execution_count": null,
      "outputs": []
    },
    {
      "cell_type": "markdown",
      "source": [
        "###B. Add Density Contours<br>\n",
        "Goal: Highlight dense regions to show motif concentration."
      ],
      "metadata": {
        "id": "R3fysQJCd2jW"
      }
    },
    {
      "cell_type": "code",
      "source": [
        "import numpy as np\n",
        "from scipy.stats import gaussian_kde\n",
        "\n",
        "# Density estimation\n",
        "xy = np.vstack([umap_2d[:, 0], umap_2d[:, 1]])\n",
        "z = gaussian_kde(xy)(xy)\n",
        "\n",
        "# Plot with contours\n",
        "plt.figure(figsize=(8, 6))\n",
        "sns.scatterplot(x=umap_2d[:, 0], y=umap_2d[:, 1], hue=labels, palette=\"tab10\", s=40, edgecolor=None)\n",
        "plt.tricontour(umap_2d[:, 0], umap_2d[:, 1], z, levels=10, linewidths=0.5, colors='gray')\n",
        "plt.title(\"Motif Embedding with Density Contours\")\n",
        "plt.xlabel(\"UMAP-1\")\n",
        "plt.ylabel(\"UMAP-2\")\n",
        "plt.tight_layout()\n",
        "plt.show()\n"
      ],
      "metadata": {
        "id": "Eeezh1SXd5vY"
      },
      "execution_count": null,
      "outputs": []
    },
    {
      "cell_type": "code",
      "source": [
        "import numpy as np\n",
        "import matplotlib.pyplot as plt\n",
        "import seaborn as sns\n",
        "from scipy.stats import gaussian_kde\n",
        "\n",
        "# Density estimation\n",
        "xy = np.vstack([umap_2d[:, 0], umap_2d[:, 1]])\n",
        "z = gaussian_kde(xy)(xy)\n",
        "\n",
        "# Plot setup\n",
        "plt.figure(figsize=(8, 6))\n",
        "sns.set_style(\"white\")  # Clean background\n",
        "\n",
        "# Scatter plot of motifs\n",
        "sns.scatterplot(\n",
        "    x=umap_2d[:, 0],\n",
        "    y=umap_2d[:, 1],\n",
        "    hue=labels,\n",
        "    palette=\"tab10\",\n",
        "    s=40,\n",
        "    edgecolor=None,\n",
        "    linewidth=0\n",
        ")\n",
        "\n",
        "# Colored density contours\n",
        "plt.tricontourf(\n",
        "    umap_2d[:, 0],\n",
        "    umap_2d[:, 1],\n",
        "    z,\n",
        "    levels=20,\n",
        "    cmap=\"YlOrRd\",\n",
        "    alpha=0.4\n",
        ")\n",
        "\n",
        "# Final touches\n",
        "plt.title(\"Motif Embedding with Colored Density Contours\", fontsize=12)\n",
        "plt.xlabel(\"UMAP-1\")\n",
        "plt.ylabel(\"UMAP-2\")\n",
        "plt.legend(title=\"Cluster ID\", loc='best')\n",
        "plt.tight_layout()\n",
        "plt.show()\n"
      ],
      "metadata": {
        "id": "UiYvw5vVky7y"
      },
      "execution_count": null,
      "outputs": []
    },
    {
      "cell_type": "code",
      "source": [
        "import matplotlib.pyplot as plt\n",
        "import seaborn as sns\n",
        "import numpy as np\n",
        "\n",
        "# Define control motifs by substring match\n",
        "control_keywords = [\"NCOA\", \"CBP\", \"MED1\", \"PBC\"]\n",
        "is_control = np.array([\n",
        "    any(keyword in motif_id for keyword in control_keywords)\n",
        "    for motif_id in ids\n",
        "])\n",
        "\n",
        "# Prepare cluster palette\n",
        "unique_clusters = np.unique(labels)\n",
        "palette = sns.color_palette(\"tab10\", len(unique_clusters))\n",
        "cluster_to_color = {cluster: palette[i] for i, cluster in enumerate(unique_clusters)}\n",
        "\n",
        "# Compute centroids (excluding control if needed)\n",
        "centroids = {\n",
        "    cluster: umap_2d[labels == cluster].mean(axis=0)\n",
        "    for cluster in unique_clusters\n",
        "}\n",
        "\n",
        "# Plot setup\n",
        "plt.figure(figsize=(8, 6))\n",
        "sns.set_style(\"white\")  # Removes grid lines but keeps axes\n",
        "\n",
        "# Plot each cluster separately\n",
        "for cluster in unique_clusters:\n",
        "    mask = (labels == cluster)\n",
        "    control_mask = mask & is_control\n",
        "    non_control_mask = mask & ~is_control\n",
        "\n",
        "    # Plot non-control motifs (circles)\n",
        "    plt.scatter(\n",
        "        umap_2d[non_control_mask, 0],\n",
        "        umap_2d[non_control_mask, 1],\n",
        "        c=[cluster_to_color[cluster]],\n",
        "        s=40,\n",
        "        label=f\"Cluster {cluster}\",\n",
        "        edgecolor=None\n",
        "    )\n",
        "\n",
        "    # Plot control motifs (X markers, same color)\n",
        "    plt.scatter(\n",
        "        umap_2d[control_mask, 0],\n",
        "        umap_2d[control_mask, 1],\n",
        "        c=[cluster_to_color[cluster]],\n",
        "        s=80,\n",
        "        marker='X',\n",
        "        label=f\"Control (C{cluster})\",\n",
        "        edgecolor='black',\n",
        "        linewidth=0.5,\n",
        "        zorder=10\n",
        "    )\n",
        "\n",
        "# Annotate centroids\n",
        "for cluster, (x, y) in centroids.items():\n",
        "    plt.text(\n",
        "        x, y, f\"C{cluster}\",\n",
        "        fontsize=10,\n",
        "        weight='bold',\n",
        "        ha='center',\n",
        "        va='center',\n",
        "        bbox=dict(facecolor='white', edgecolor='black', boxstyle='round,pad=0.3')\n",
        "    )\n",
        "\n",
        "# Final touches\n",
        "plt.title(\"Motif Embedding with Cluster Centroids and Control Highlights\", fontsize=12)\n",
        "plt.xlabel(\"UMAP-1\")\n",
        "plt.ylabel(\"UMAP-2\")\n",
        "plt.legend(title=\"Motif Groups\", loc='best')\n",
        "plt.tight_layout()\n",
        "plt.savefig(\"Motif_Embeddings_with_cluster_centroids.png\", dpi=800, bbox_inches='tight')\n",
        "plt.show()\n"
      ],
      "metadata": {
        "id": "Pu9cCNieeNMK"
      },
      "execution_count": null,
      "outputs": []
    },
    {
      "cell_type": "code",
      "source": [
        "#@title Interecative plot\n",
        "import plotly.express as px\n",
        "\n",
        "# Prepare DataFrame\n",
        "df_plot = pd.DataFrame({\n",
        "    \"UMAP-1\": umap_2d[:, 0],\n",
        "    \"UMAP-2\": umap_2d[:, 1],\n",
        "    \"Cluster\": labels,\n",
        "    \"Motif ID\": ids\n",
        "})\n",
        "\n",
        "# Create interactive scatter plot\n",
        "fig = px.scatter(\n",
        "    df_plot,\n",
        "    x=\"UMAP-1\",\n",
        "    y=\"UMAP-2\",\n",
        "    color=\"Cluster\",\n",
        "    hover_data=[\"Motif ID\"],\n",
        "    title=\"Interactive Motif Embedding\"\n",
        ")\n",
        "\n",
        "# Customize layout\n",
        "fig.update_layout(legend_title_text='Cluster ID')\n",
        "\n",
        "# Export to HTML\n",
        "fig.write_html(\"motif_embedding_interactive.html\")\n",
        "\n",
        "# Optional: Display in notebook or script\n",
        "fig.show()\n"
      ],
      "metadata": {
        "cellView": "form",
        "id": "DVOrtGU_efPz"
      },
      "execution_count": null,
      "outputs": []
    },
    {
      "cell_type": "markdown",
      "source": [
        "Functional Hypotheses: Why Do These Motifs Cluster?\n",
        "Here are biologically plausible reasons for motif clustering:\n",
        "\n",
        "Shared Binding Partners: Motifs that bind the same protein domains (e.g. nuclear receptor AF-2 domain) tend to converge in embedding space due to sequence similarity and conserved interaction residues.\n",
        "\n",
        "Conserved Flanking Residues: Even if the core motif (e.g. LXXLL) is identical, the surrounding residues influence binding specificity. Embedding models often capture these subtle patterns, leading to clustering.\n",
        "\n",
        "Post-translational Modification Sites: Motifs with nearby phosphorylation or acetylation sites may cluster due to shared regulatory mechanisms.\n",
        "\n",
        "Evolutionary Conservation: Motifs from orthologous proteins across species may cluster, reflecting functional conservation.\n",
        "\n",
        "Structural Embedding Bias: If your embedding incorporates secondary structure or disorder predictions, motifs in similar structural contexts (e.g. alpha helices) may cluster."
      ],
      "metadata": {
        "id": "gDSsm7_RkEDT"
      }
    }
  ]
}