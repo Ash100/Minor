{
  "cells": [
    {
      "cell_type": "markdown",
      "metadata": {
        "id": "view-in-github",
        "colab_type": "text"
      },
      "source": [
        "<a href=\"https://colab.research.google.com/github/Ash100/Minor/blob/main/W2Image.ipynb\" target=\"_parent\"><img src=\"https://colab.research.google.com/assets/colab-badge.svg\" alt=\"Open In Colab\"/></a>"
      ]
    },
    {
      "cell_type": "markdown",
      "source": [
        "Developed by **Dr. Ashfaq Ahmad**\n",
        "\n",
        "Generate Images on your own risk. Un tested"
      ],
      "metadata": {
        "id": "iw1FfrLAjoNm"
      }
    },
    {
      "cell_type": "markdown",
      "source": [
        "## Models to Employ\n",
        "For General Image Generation:\n",
        "\n",
        "**Stable Diffusion Models:**\n",
        "\n",
        "Stable Diffusion v1.4: A popular model for generating high-quality images from textual descriptions.\n",
        "Stable Diffusion v2.1: An updated version with improved quality and capabilities.\n",
        "Stable Diffusion v3: A further improved model for more advanced image generation.\n",
        "\n",
        "**DALL·E Models:** (Probably not fit here)\n",
        "\n",
        "DALL·E 1: An earlier model for generating images from textual descriptions.\n",
        "DALL·E 2: An improved version with better image quality and capabilities.\n",
        "DALL·E 3: The latest version, offering even higher quality and more accurate image generation.\n",
        "\n",
        "**MidJourney:**\n",
        "\n",
        "MidJourney V5: Known for its artistic and high-quality image generation.\n",
        "Artbreeder:\n",
        "\n",
        "Artbreeder: A platform using generative adversarial networks (GANs) for creating and blending images, particularly useful for creative and artistic work.\n",
        "For Scientific and Molecular Visualizations:\n",
        "BioBERT (Biological BERT):\n",
        "\n",
        "Designed for tasks related to biological and biomedical text, which might assist in generating scientific-related visuals indirectly.\n",
        "DeepChem:\n",
        "\n",
        "DeepChem: A library that provides tools for molecular modeling and could be used in combination with other tools for creating molecular visualizations.\n",
        "ChemDraw:\n",
        "\n",
        "While not a model, ChemDraw is a widely used software for creating detailed chemical diagrams and molecular structures.\n",
        "PyMOL:\n",
        "\n",
        "PyMOL: A molecular visualization system for creating high-quality 3D images of molecules.\n",
        "Chimera:\n",
        "\n",
        "Chimera: A molecular modeling and visualization tool used for generating high-quality 3D visualizations.\n",
        "Schrödinger Suite:\n",
        "\n",
        "Schrödinger: Provides tools for molecular modeling and visualization, suitable for generating accurate scientific illustrations.\n",
        "\n",
        "**For Artistic Style Transfer:**\n",
        "DeepArt.io:\n",
        "\n",
        "DeepArt.io: Uses neural networks for applying artistic styles to images.\n",
        "Neural Style Transfer Models:\n",
        "\n",
        "Models specifically trained for applying artistic styles to images, using techniques like style transfer.\n",
        "\n",
        "**For Enhanced Image Generation:**\n",
        "BigGAN:\n",
        "\n",
        "BigGAN: A large-scale GAN for generating high-quality images.\n",
        "StyleGAN:\n",
        "\n",
        "StyleGAN2: Known for generating high-quality, realistic images and is used for creating diverse and high-resolution images.\n",
        "VQ-VAE-2:\n",
        "\n",
        "VQ-VAE-2: A model for generating high-fidelity images.\n",
        "These models and tools cover a wide range of image generation needs, from general art and creative images to scientific and molecular visualizations. Depending on your specific requirements, you might want to explore and experiment with several of these models and tools to find the best fit for your needs."
      ],
      "metadata": {
        "id": "sTJgBFfdlZDI"
      }
    },
    {
      "cell_type": "code",
      "execution_count": null,
      "metadata": {
        "id": "LoDLOeyOWbob"
      },
      "outputs": [],
      "source": [
        "!pip install diffusers transformers"
      ]
    },
    {
      "cell_type": "code",
      "execution_count": null,
      "metadata": {
        "id": "9ugaWZBWWQjq"
      },
      "outputs": [],
      "source": [
        "from diffusers import StableDiffusionPipeline\n",
        "import torch\n",
        "from PIL import Image\n",
        "\n",
        "# Load the pre-trained stable diffusion model\n",
        "model_id = \"CompVis/stable-diffusion-v1-4\"\n",
        "device = \"cuda\" if torch.cuda.is_available() else \"cpu\"\n",
        "pipe = StableDiffusionPipeline.from_pretrained(model_id)\n",
        "pipe = pipe.to(device)\n",
        "\n",
        "# Define your description\n",
        "description = \"\"\"\n",
        "A high resolution Picture of flying \"eagle\" holding \"FISH\".\n",
        "\"\"\"\n",
        "\n",
        "# Generate an image from the description\n",
        "with torch.autocast(\"cuda\"):\n",
        "    image = pipe(description).images[0]\n",
        "\n",
        "# Save the generated image\n",
        "image_path = \"/content/generated_image.png\"\n",
        "image.save(image_path)\n",
        "\n",
        "print(f\"Image saved to {image_path}\")\n",
        "\n",
        "# Display the generated image\n",
        "image.show()"
      ]
    },
    {
      "cell_type": "code",
      "execution_count": null,
      "metadata": {
        "id": "TvFnIIuWZw_L"
      },
      "outputs": [],
      "source": [
        "from IPython.display import Image as IPImage\n",
        "\n",
        "# Display the generated image\n",
        "display(IPImage(filename=image_path))"
      ]
    },
    {
      "cell_type": "code",
      "execution_count": null,
      "metadata": {
        "id": "L4g8-JVWe6Dz"
      },
      "outputs": [],
      "source": [
        "from diffusers import StableDiffusionPipeline\n",
        "import torch\n",
        "from PIL import Image\n",
        "\n",
        "# Load the pre-trained stable diffusion model\n",
        "model_id = \"CompVis/stable-diffusion-v1-4\"\n",
        "device = \"cuda\" if torch.cuda.is_available() else \"cpu\"\n",
        "pipe = StableDiffusionPipeline.from_pretrained(model_id)\n",
        "pipe = pipe.to(device)\n",
        "\n",
        "# Define your description\n",
        "description = \"\"\"\n",
        "Picture of flying \"eagle\" holding \"fish\".\n",
        "\"\"\"\n",
        "\n",
        "# Generate an image from the description\n",
        "with torch.autocast(\"cuda\"):\n",
        "    image = pipe(description).images[0]\n",
        "\n",
        "# Resize the generated image\n",
        "new_size = (1024, 1024)  # specify the desired size (width, height)\n",
        "resized_image = image.resize(new_size, Image.ANTIALIAS)\n",
        "\n",
        "# Save the resized image\n",
        "image_path = \"/content/resized_generated_image.png\"\n",
        "resized_image.save(image_path)\n",
        "\n",
        "print(f\"Resized image saved to {image_path}\")\n",
        "\n",
        "# Display the resized image\n",
        "resized_image.show()"
      ]
    },
    {
      "cell_type": "code",
      "execution_count": null,
      "metadata": {
        "id": "n1Fbkj7TfY-J"
      },
      "outputs": [],
      "source": [
        "from IPython.display import Image as IPImage\n",
        "\n",
        "# Display the resized image\n",
        "display(IPImage(filename=image_path))"
      ]
    }
  ],
  "metadata": {
    "accelerator": "GPU",
    "colab": {
      "gpuType": "T4",
      "provenance": [],
      "authorship_tag": "ABX9TyM5kZI3mpkJ3ACH/W4rnIQl",
      "include_colab_link": true
    },
    "kernelspec": {
      "display_name": "Python 3",
      "name": "python3"
    },
    "language_info": {
      "name": "python"
    }
  },
  "nbformat": 4,
  "nbformat_minor": 0
}