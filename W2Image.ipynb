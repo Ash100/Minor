{
  "cells": [
    {
      "cell_type": "markdown",
      "metadata": {
        "id": "view-in-github",
        "colab_type": "text"
      },
      "source": [
        "<a href=\"https://colab.research.google.com/github/Ash100/Minor/blob/main/W2Image.ipynb\" target=\"_parent\"><img src=\"https://colab.research.google.com/assets/colab-badge.svg\" alt=\"Open In Colab\"/></a>"
      ]
    },
    {
      "cell_type": "markdown",
      "source": [
        "Developed by **Dr. Ashfaq Ahmad**\n",
        "\n",
        "Generate Images on your own risk. Un tested"
      ],
      "metadata": {
        "id": "iw1FfrLAjoNm"
      }
    },
    {
      "cell_type": "code",
      "execution_count": null,
      "metadata": {
        "id": "LoDLOeyOWbob"
      },
      "outputs": [],
      "source": [
        "!pip install diffusers transformers"
      ]
    },
    {
      "cell_type": "code",
      "execution_count": null,
      "metadata": {
        "id": "9ugaWZBWWQjq"
      },
      "outputs": [],
      "source": [
        "from diffusers import StableDiffusionPipeline\n",
        "import torch\n",
        "from PIL import Image\n",
        "\n",
        "# Load the pre-trained stable diffusion model\n",
        "model_id = \"CompVis/stable-diffusion-v1-4\"\n",
        "device = \"cuda\" if torch.cuda.is_available() else \"cpu\"\n",
        "pipe = StableDiffusionPipeline.from_pretrained(model_id)\n",
        "pipe = pipe.to(device)\n",
        "\n",
        "# Define your description\n",
        "description = \"\"\"\n",
        "A high resolution Picture of flying \"eagle\" holding \"FISH\".\n",
        "\"\"\"\n",
        "\n",
        "# Generate an image from the description\n",
        "with torch.autocast(\"cuda\"):\n",
        "    image = pipe(description).images[0]\n",
        "\n",
        "# Save the generated image\n",
        "image_path = \"/content/generated_image.png\"\n",
        "image.save(image_path)\n",
        "\n",
        "print(f\"Image saved to {image_path}\")\n",
        "\n",
        "# Display the generated image\n",
        "image.show()"
      ]
    },
    {
      "cell_type": "code",
      "execution_count": null,
      "metadata": {
        "id": "TvFnIIuWZw_L"
      },
      "outputs": [],
      "source": [
        "from IPython.display import Image as IPImage\n",
        "\n",
        "# Display the generated image\n",
        "display(IPImage(filename=image_path))"
      ]
    },
    {
      "cell_type": "code",
      "execution_count": null,
      "metadata": {
        "id": "L4g8-JVWe6Dz"
      },
      "outputs": [],
      "source": [
        "from diffusers import StableDiffusionPipeline\n",
        "import torch\n",
        "from PIL import Image\n",
        "\n",
        "# Load the pre-trained stable diffusion model\n",
        "model_id = \"CompVis/stable-diffusion-v1-4\"\n",
        "device = \"cuda\" if torch.cuda.is_available() else \"cpu\"\n",
        "pipe = StableDiffusionPipeline.from_pretrained(model_id)\n",
        "pipe = pipe.to(device)\n",
        "\n",
        "# Define your description\n",
        "description = \"\"\"\n",
        "Picture of flying \"eagle\" holding \"fish\".\n",
        "\"\"\"\n",
        "\n",
        "# Generate an image from the description\n",
        "with torch.autocast(\"cuda\"):\n",
        "    image = pipe(description).images[0]\n",
        "\n",
        "# Resize the generated image\n",
        "new_size = (1024, 1024)  # specify the desired size (width, height)\n",
        "resized_image = image.resize(new_size, Image.ANTIALIAS)\n",
        "\n",
        "# Save the resized image\n",
        "image_path = \"/content/resized_generated_image.png\"\n",
        "resized_image.save(image_path)\n",
        "\n",
        "print(f\"Resized image saved to {image_path}\")\n",
        "\n",
        "# Display the resized image\n",
        "resized_image.show()"
      ]
    },
    {
      "cell_type": "code",
      "execution_count": null,
      "metadata": {
        "id": "n1Fbkj7TfY-J"
      },
      "outputs": [],
      "source": [
        "from IPython.display import Image as IPImage\n",
        "\n",
        "# Display the resized image\n",
        "display(IPImage(filename=image_path))"
      ]
    }
  ],
  "metadata": {
    "accelerator": "GPU",
    "colab": {
      "gpuType": "T4",
      "provenance": [],
      "authorship_tag": "ABX9TyOnP2IlCwHefz2wHlOcD5D/",
      "include_colab_link": true
    },
    "kernelspec": {
      "display_name": "Python 3",
      "name": "python3"
    },
    "language_info": {
      "name": "python"
    }
  },
  "nbformat": 4,
  "nbformat_minor": 0
}