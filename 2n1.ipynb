{
  "nbformat": 4,
  "nbformat_minor": 0,
  "metadata": {
    "colab": {
      "provenance": [],
      "authorship_tag": "ABX9TyP2pNlOiw5mRXhXK0/ZG1hn",
      "include_colab_link": true
    },
    "kernelspec": {
      "name": "python3",
      "display_name": "Python 3"
    },
    "language_info": {
      "name": "python"
    }
  },
  "cells": [
    {
      "cell_type": "markdown",
      "metadata": {
        "id": "view-in-github",
        "colab_type": "text"
      },
      "source": [
        "<a href=\"https://colab.research.google.com/github/Ash100/Minor/blob/main/2n1.ipynb\" target=\"_parent\"><img src=\"https://colab.research.google.com/assets/colab-badge.svg\" alt=\"Open In Colab\"/></a>"
      ]
    },
    {
      "cell_type": "markdown",
      "source": [
        "#**2n1: Unknown EDA and De-NACL(ation)**\n",
        "Prepared for testing purposes by **Dr. Ashfaq Ahmad**.\n",
        "Use it on your own risk, if you want to...."
      ],
      "metadata": {
        "id": "RnpF-K6kQfW2"
      }
    },
    {
      "cell_type": "code",
      "execution_count": null,
      "metadata": {
        "cellView": "form",
        "id": "qvnUCYp6NwPL"
      },
      "outputs": [],
      "source": [
        "#@title Install and Import necessary libraries\n",
        "!pip install seaborn\n",
        "\n",
        "# Import libraries\n",
        "import pandas as pd\n",
        "import seaborn as sns\n",
        "import matplotlib.pyplot as plt\n",
        "import numpy as np"
      ]
    },
    {
      "cell_type": "code",
      "source": [
        "#@title Data Loading\n",
        "input_file_path = ''  # Update this to your actual input file path\n",
        "data = pd.read_csv(input_file_path)"
      ],
      "metadata": {
        "cellView": "form",
        "id": "GhyJYFUwNzCg"
      },
      "execution_count": 2,
      "outputs": []
    },
    {
      "cell_type": "code",
      "source": [
        "#@title Display the first few rows of the dataset\n",
        "print(\"First few rows of the dataset:\")\n",
        "print(data.head())"
      ],
      "metadata": {
        "cellView": "form",
        "id": "2S5G2cdWNzUo"
      },
      "execution_count": null,
      "outputs": []
    },
    {
      "cell_type": "code",
      "source": [
        "#@title Summary Statistics (excluding non-numeric columns like SMILES)\n",
        "print(\"\\nSummary Statistics:\")\n",
        "numeric_data = data.select_dtypes(include=[np.number])\n",
        "print(numeric_data.describe())"
      ],
      "metadata": {
        "cellView": "form",
        "id": "tp1psOECNzqB"
      },
      "execution_count": null,
      "outputs": []
    },
    {
      "cell_type": "code",
      "source": [
        "#@title Check for missing values\n",
        "print(\"\\nMissing Values Analysis:\")\n",
        "print(data.isnull().sum())"
      ],
      "metadata": {
        "cellView": "form",
        "id": "PpLykJ2lNz5L"
      },
      "execution_count": null,
      "outputs": []
    },
    {
      "cell_type": "code",
      "source": [
        "#@title Correlation Matrix (excluding non-numeric columns like SMILES)\n",
        "print(\"\\nCorrelation Matrix:\")\n",
        "corr_matrix = numeric_data.corr()\n",
        "print(corr_matrix)"
      ],
      "metadata": {
        "cellView": "form",
        "id": "BWdQB7gKN0OQ"
      },
      "execution_count": null,
      "outputs": []
    },
    {
      "cell_type": "code",
      "source": [
        "#@title Plot Correlation Matrix\n",
        "plt.figure(figsize=(12, 8))\n",
        "sns.heatmap(corr_matrix, annot=True, cmap='coolwarm', fmt='.2f')\n",
        "plt.title('Correlation Matrix')\n",
        "plt.show()"
      ],
      "metadata": {
        "cellView": "form",
        "id": "sDnm7vP1N0dt"
      },
      "execution_count": null,
      "outputs": []
    },
    {
      "cell_type": "code",
      "source": [
        "#@title Distribution Plots for all numerical columns\n",
        "numerical_columns = data.select_dtypes(include=[np.number]).columns.tolist()\n",
        "for col in numerical_columns:\n",
        "    plt.figure(figsize=(10, 6))\n",
        "    sns.histplot(data[col], kde=True)\n",
        "    plt.title(f'Distribution of {col}')\n",
        "    plt.xlabel(col)\n",
        "    plt.ylabel('Frequency')\n",
        "    plt.show()"
      ],
      "metadata": {
        "cellView": "form",
        "id": "OlxjCp8jN0sP"
      },
      "execution_count": null,
      "outputs": []
    },
    {
      "cell_type": "code",
      "source": [
        "#@title Box Plots for all numerical columns\n",
        "for col in numerical_columns:\n",
        "    plt.figure(figsize=(10, 6))\n",
        "    sns.boxplot(y=data[col])\n",
        "    plt.title(f'Box Plot of {col}')\n",
        "    plt.ylabel(col)\n",
        "    plt.show()"
      ],
      "metadata": {
        "cellView": "form",
        "id": "6dqbAsyqOK5c"
      },
      "execution_count": null,
      "outputs": []
    },
    {
      "cell_type": "code",
      "source": [
        "#@title Pair Plots for numerical columns to visualize relationships\n",
        "sns.pairplot(data[numerical_columns])\n",
        "plt.show()\n",
        "\n",
        "# Activity vs Descriptors (Scatter Plots)\n",
        "for col in numerical_columns:\n",
        "    if col != 'Activity':  # Exclude Activity column from descriptors\n",
        "        plt.figure(figsize=(10, 6))\n",
        "        sns.scatterplot(x=data[col], y=data['Activity'])\n",
        "        plt.title(f'Activity vs {col}')\n",
        "        plt.xlabel(col)\n",
        "        plt.ylabel('Activity')\n",
        "        plt.show()"
      ],
      "metadata": {
        "cellView": "form",
        "id": "LqmPMpmIN09I"
      },
      "execution_count": null,
      "outputs": []
    },
    {
      "cell_type": "markdown",
      "source": [
        "### Some Statistics (Optional)"
      ],
      "metadata": {
        "id": "XQyNkz-NPonV"
      }
    },
    {
      "cell_type": "code",
      "source": [
        "#@title Outlier Detection\n",
        "print(\"\\nOutlier Detection:\")\n",
        "for col in numeric_data.columns:\n",
        "    plt.figure(figsize=(10, 6))\n",
        "    sns.boxplot(data[col])\n",
        "    plt.title(f'Outliers in {col}')\n",
        "    plt.ylabel(col)\n",
        "    plt.show()"
      ],
      "metadata": {
        "cellView": "form",
        "id": "ZheWICWfQnLg"
      },
      "execution_count": null,
      "outputs": []
    },
    {
      "cell_type": "code",
      "source": [
        "!pip install seaborn scipy scikit-learn"
      ],
      "metadata": {
        "id": "ezZlzNVAQ6VP"
      },
      "execution_count": null,
      "outputs": []
    },
    {
      "cell_type": "code",
      "source": [
        "#@title Import libraries\n",
        "import pandas as pd\n",
        "import seaborn as sns\n",
        "import matplotlib.pyplot as plt\n",
        "import numpy as np\n",
        "from scipy import stats\n",
        "from sklearn.decomposition import PCA\n",
        "from sklearn.preprocessing import StandardScaler"
      ],
      "metadata": {
        "cellView": "form",
        "id": "DyJY6AmTQ-aY"
      },
      "execution_count": 17,
      "outputs": []
    },
    {
      "cell_type": "code",
      "source": [
        "#@title Normality Tests\n",
        "print(\"\\nNormality Tests:\")\n",
        "for col in numeric_data.columns:\n",
        "    k2, p = stats.normaltest(data[col])\n",
        "    alpha = 0.05\n",
        "    print(f'{col} normality test p-value = {p}')\n",
        "    if p < alpha:\n",
        "        print(f\"{col} does not follow a normal distribution\")\n",
        "    else:\n",
        "        print(f\"{col} follows a normal distribution\")"
      ],
      "metadata": {
        "cellView": "form",
        "id": "C1dD51VTQtyH"
      },
      "execution_count": null,
      "outputs": []
    },
    {
      "cell_type": "code",
      "source": [
        "#@title T-Test / ANOVA\n",
        "print(\"\\nT-Test / ANOVA:\")\n",
        "if 'Activity' in numeric_data.columns:\n",
        "    active = data[data['Activity'] > data['Activity'].median()]\n",
        "    inactive = data[data['Activity'] <= data['Activity'].median()]\n",
        "    for col in numeric_data.columns:\n",
        "        if col != 'Activity':\n",
        "            t_stat, p_val = stats.ttest_ind(active[col], inactive[col])\n",
        "            print(f'T-Test between active and inactive for {col}: p-value = {p_val}')\n",
        "            if p_val < alpha:\n",
        "                print(f\"Statistically significant difference for {col}\")\n",
        "            else:\n",
        "                print(f\"No statistically significant difference for {col}\")"
      ],
      "metadata": {
        "cellView": "form",
        "id": "Pgs9xWQ_ROBD"
      },
      "execution_count": null,
      "outputs": []
    },
    {
      "cell_type": "code",
      "source": [
        "#@title Feature Importance using Correlation with Activity\n",
        "print(\"\\nFeature Importance:\")\n",
        "corr_with_activity = corr_matrix['Activity'].sort_values(ascending=False)\n",
        "print(corr_with_activity)"
      ],
      "metadata": {
        "cellView": "form",
        "id": "gmqsg0fORkim"
      },
      "execution_count": null,
      "outputs": []
    },
    {
      "cell_type": "code",
      "source": [
        "#@title PCA (Principal Component Analysis)\n",
        "print(\"\\nPCA (Principal Component Analysis):\")\n",
        "scaler = StandardScaler()\n",
        "scaled_data = scaler.fit_transform(numeric_data.drop(columns=['Activity'], errors='ignore'))\n",
        "pca = PCA(n_components=2)\n",
        "pca_results = pca.fit_transform(scaled_data)\n",
        "pca_df = pd.DataFrame(data=pca_results, columns=['Principal Component 1', 'Principal Component 2'])\n",
        "plt.figure(figsize=(10, 6))\n",
        "sns.scatterplot(x='Principal Component 1', y='Principal Component 2', data=pca_df)\n",
        "plt.title('PCA Results')\n",
        "plt.show()"
      ],
      "metadata": {
        "cellView": "form",
        "id": "z2w4likQRtSq"
      },
      "execution_count": null,
      "outputs": []
    },
    {
      "cell_type": "code",
      "source": [
        "#@title Distribution of Activity by Categories (if applicable)\n",
        "if 'Category' in data.columns:\n",
        "    print(\"Category column found. Generating plot.\")\n",
        "    print(data['Category'].value_counts())  # Print the distribution of categories\n",
        "    plt.figure(figsize=(10, 6))\n",
        "    sns.boxplot(x='Category', y='Activity', data=data)\n",
        "    plt.title('Distribution of Activity by Category')\n",
        "    plt.show()\n",
        "else:\n",
        "    print(\"Category column not found.\")"
      ],
      "metadata": {
        "cellView": "form",
        "id": "F02ed175SKwt"
      },
      "execution_count": null,
      "outputs": []
    },
    {
      "cell_type": "markdown",
      "source": [
        "#**Perform De-Saltation**"
      ],
      "metadata": {
        "id": "2KNz18OkQAhg"
      }
    },
    {
      "cell_type": "code",
      "source": [
        "!pip install rdkit-pypi"
      ],
      "metadata": {
        "id": "yoZ1-wQCIENa"
      },
      "execution_count": null,
      "outputs": []
    },
    {
      "cell_type": "code",
      "source": [
        "#@title Import necessary libraries\n",
        "import pandas as pd\n",
        "import networkx as nx\n",
        "from rdkit import Chem\n",
        "from rdkit.Chem import Descriptors, rdMolDescriptors\n",
        "from rdkit.Chem import Descriptors, rdmolops"
      ],
      "metadata": {
        "cellView": "form",
        "id": "Rx5ktM7zIBkQ"
      },
      "execution_count": 2,
      "outputs": []
    },
    {
      "cell_type": "code",
      "source": [
        "#@title Load data from a CSV file (make sure to upload your file to Colab)\n",
        "# The CSV file should have at least two columns: \"SMILES\" and \"Activity\"\n",
        "file_path = ''  # Change this to the path of your CSV file\n",
        "data = pd.read_csv(file_path)"
      ],
      "metadata": {
        "cellView": "form",
        "id": "xF2b9VM1IOuX"
      },
      "execution_count": 3,
      "outputs": []
    },
    {
      "cell_type": "code",
      "source": [
        "#@title below script\n",
        "import pandas as pd\n",
        "from rdkit import Chem\n",
        "from rdkit.Chem import AllChem, rdMolDescriptors\n",
        "from rdkit.Chem.rdchem import Mol\n",
        "from typing import List\n",
        "\n",
        "# Function to remove salts by keeping the largest fragment\n",
        "def remove_salts(smiles: str) -> str:\n",
        "    mol = Chem.MolFromSmiles(smiles)\n",
        "    if mol is None:\n",
        "        return None\n",
        "\n",
        "    # Fragment the molecule\n",
        "    frags = Chem.GetMolFrags(mol, asMols=True, sanitizeFrags=False)\n",
        "\n",
        "    # Keep the largest fragment\n",
        "    largest_frag = max(frags, default=mol, key=lambda m: m.GetNumAtoms())\n",
        "\n",
        "    return Chem.MolToSmiles(largest_frag)\n",
        "\n",
        "# Load your dataset\n",
        "input_file_path = '/content/Unknown60K.csv'  # Update this to your actual input file path\n",
        "data = pd.read_csv(input_file_path)\n",
        "\n",
        "# Apply desalting to each SMILES string\n",
        "data['Desalted_SMILES'] = data['SMILES'].apply(remove_salts)\n",
        "\n",
        "# Save the results to a new CSV file\n",
        "output_file_path = '/content/desalted_compounds.csv'  # Update this to your desired output path\n",
        "data.to_csv(output_file_path, index=False)\n",
        "\n",
        "print(f\"Desalted compounds saved to {output_file_path}\")"
      ],
      "metadata": {
        "cellView": "form",
        "id": "_KeNqjLUICA9"
      },
      "execution_count": null,
      "outputs": []
    }
  ]
}