{
  "nbformat": 4,
  "nbformat_minor": 0,
  "metadata": {
    "colab": {
      "provenance": [],
      "authorship_tag": "ABX9TyN8jZ9Zuh4qHBI2anfiuyO7",
      "include_colab_link": true
    },
    "kernelspec": {
      "name": "python3",
      "display_name": "Python 3"
    },
    "language_info": {
      "name": "python"
    }
  },
  "cells": [
    {
      "cell_type": "markdown",
      "metadata": {
        "id": "view-in-github",
        "colab_type": "text"
      },
      "source": [
        "<a href=\"https://colab.research.google.com/github/Ash100/Minor/blob/main/DSSS.ipynb\" target=\"_parent\"><img src=\"https://colab.research.google.com/assets/colab-badge.svg\" alt=\"Open In Colab\"/></a>"
      ]
    },
    {
      "cell_type": "code",
      "source": [
        "#@title DSSS - Encoding\n",
        "import pandas as pd\n",
        "import zlib\n",
        "from google.colab import files\n",
        "\n",
        "# Function to upload a CSV file\n",
        "def upload_csv_file():\n",
        "    uploaded = files.upload()\n",
        "    file_name = list(uploaded.keys())[0]\n",
        "    return file_name\n",
        "\n",
        "# Function to read CSV file into DataFrame\n",
        "def read_csv(file_name):\n",
        "    return pd.read_csv(file_name)\n",
        "\n",
        "# Function to compress data using zlib\n",
        "def compress_data_zlib(data):\n",
        "    compressed_data = zlib.compress(data.encode('utf-8'))\n",
        "    return compressed_data\n",
        "\n",
        "# Function to encode compressed data as a base64 string\n",
        "import base64\n",
        "def encode_compressed_data(compressed_data):\n",
        "    encoded_data = base64.b64encode(compressed_data).decode('utf-8')\n",
        "    return encoded_data\n",
        "\n",
        "# Main function to encode and save CSV file as a compressed base64 string\n",
        "def encode_csv_to_compressed_base64():\n",
        "    file_name = upload_csv_file()\n",
        "    df = read_csv(file_name)\n",
        "\n",
        "    # Convert DataFrame to CSV string\n",
        "    csv_data = df.to_csv(index=False)\n",
        "\n",
        "    # Compress CSV data\n",
        "    compressed_data = compress_data_zlib(csv_data)\n",
        "\n",
        "    # Encode compressed data as base64\n",
        "    encoded_data = encode_compressed_data(compressed_data)\n",
        "\n",
        "    # Save encoded data to file\n",
        "    with open(\"encoded_data_base64.txt\", \"w\") as file:\n",
        "        file.write(encoded_data)\n",
        "\n",
        "    print(f\"Encoded data saved as: encoded_data_base64.txt\")\n",
        "\n",
        "# Run the encoding function\n",
        "encode_csv_to_compressed_base64()"
      ],
      "metadata": {
        "cellView": "form",
        "id": "Bx2FbxyguATV"
      },
      "execution_count": null,
      "outputs": []
    },
    {
      "cell_type": "code",
      "source": [
        "#@title DSSS - Decoding\n",
        "import zlib\n",
        "import base64\n",
        "from google.colab import files\n",
        "import pandas as pd\n",
        "\n",
        "# Function to upload a base64 encoded data file\n",
        "def upload_base64_file():\n",
        "    uploaded = files.upload()\n",
        "    file_name = list(uploaded.keys())[0]\n",
        "    with open(file_name, \"r\") as file:\n",
        "        return file.read()\n",
        "\n",
        "# Function to decode base64 encoded data\n",
        "def decode_base64_data(encoded_data):\n",
        "    decoded_data = base64.b64decode(encoded_data)\n",
        "    return decoded_data\n",
        "\n",
        "# Function to decompress data using zlib\n",
        "def decompress_data_zlib(compressed_data):\n",
        "    decompressed_data = zlib.decompress(compressed_data).decode('utf-8')\n",
        "    return decompressed_data\n",
        "\n",
        "# Main function to decode base64 data and save as CSV\n",
        "def decode_base64_to_csv():\n",
        "    encoded_data = upload_base64_file()\n",
        "\n",
        "    # Decode base64 data\n",
        "    compressed_data = decode_base64_data(encoded_data)\n",
        "\n",
        "    # Decompress the data\n",
        "    decompressed_csv_data = decompress_data_zlib(compressed_data)\n",
        "\n",
        "    # Save the decompressed CSV data into a file\n",
        "    reconstructed_file_name = \"reconstructed_from_base64.csv\"\n",
        "    with open(reconstructed_file_name, \"w\") as f:\n",
        "        f.write(decompressed_csv_data)\n",
        "\n",
        "    print(f\"Reconstructed CSV file saved as: {reconstructed_file_name}\")\n",
        "\n",
        "    # Load the reconstructed data into a DataFrame to verify\n",
        "    reconstructed_df = pd.read_csv(reconstructed_file_name)\n",
        "    print(\"Reconstructed DataFrame:\")\n",
        "    print(reconstructed_df.head())\n",
        "\n",
        "# Run the decoding function\n",
        "decode_base64_to_csv()"
      ],
      "metadata": {
        "cellView": "form",
        "id": "TE93IeECvHUO"
      },
      "execution_count": null,
      "outputs": []
    }
  ]
}